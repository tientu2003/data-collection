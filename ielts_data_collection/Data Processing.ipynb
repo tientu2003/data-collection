{
 "cells": [
  {
   "metadata": {},
   "cell_type": "markdown",
   "source": "### 1. Prepare Account to scrape Data from Study4\n",
   "id": "7804ccff58d6c4be"
  },
  {
   "cell_type": "code",
   "id": "initial_id",
   "metadata": {
    "collapsed": true,
    "ExecuteTime": {
     "end_time": "2024-10-12T00:53:21.058887Z",
     "start_time": "2024-10-12T00:53:20.808594Z"
    }
   },
   "source": [
    "from selenium import webdriver\n",
    "from selenium.webdriver.common.by import By\n",
    "from selenium.webdriver.chrome.service import Service\n",
    "from webdriver_manager.chrome import ChromeDriverManager\n",
    "import time\n",
    "import json"
   ],
   "outputs": [],
   "execution_count": 1
  },
  {
   "metadata": {},
   "cell_type": "markdown",
   "source": "#### 1.1 Login",
   "id": "c6766b04f2d13895"
  },
  {
   "metadata": {},
   "cell_type": "code",
   "outputs": [],
   "execution_count": null,
   "source": [
    "# Sử dụng Selenium để đăng nhập\n",
    "options = webdriver.ChromeOptions()\n",
    "options.add_argument(\"--headless\")\n",
    "\n",
    "driver = webdriver.Chrome(service=Service(ChromeDriverManager().install()), options=options)\n",
    "driver.get(\"https://study4.com/login/\")\n",
    "\n",
    "#Đăng nhập bằng facebook account\n",
    "driver.find_element(By.CLASS_NAME,\"f-login-button\").click()\n",
    "\n",
    "email_input = driver.find_element(By.ID,\"email\")\n",
    "email_input.send_keys(\"nmjuyh26@gmail.com\")\n",
    "\n",
    "password_input = driver.find_element(By.ID,\"pass\")\n",
    "password_input.send_keys(\"tientumega\")\n",
    "\n",
    "driver.find_element(By.ID,\"loginbutton\").click()\n",
    "time.sleep(3)\n",
    "\n",
    "driver.find_element(By.XPATH,\"//div[@role='button']\").click()\n",
    "time.sleep(5)"
   ],
   "id": "e7a342cc606d2d"
  },
  {
   "metadata": {},
   "cell_type": "markdown",
   "source": "### 1.2 Do all tests for signed Account",
   "id": "e94305b5c38732f9"
  },
  {
   "metadata": {},
   "cell_type": "code",
   "outputs": [],
   "execution_count": null,
   "source": [
    "with open('tests.json') as file:\n",
    "    data = json.load(file)\n",
    "for row in data:\n",
    "    url = row['test_url']\n",
    "    driver.get(url)\n",
    "    driver.find_element(By.ID,'').click()"
   ],
   "id": "fef19e49f2ea96e2"
  },
  {
   "metadata": {},
   "cell_type": "markdown",
   "source": "### Stop Selenium",
   "id": "38d40daeb394952"
  },
  {
   "metadata": {},
   "cell_type": "code",
   "outputs": [],
   "execution_count": null,
   "source": "driver.quit()",
   "id": "324ff8086bc176a4"
  }
 ],
 "metadata": {
  "kernelspec": {
   "display_name": "Python 3",
   "language": "python",
   "name": "python3"
  },
  "language_info": {
   "codemirror_mode": {
    "name": "ipython",
    "version": 2
   },
   "file_extension": ".py",
   "mimetype": "text/x-python",
   "name": "python",
   "nbconvert_exporter": "python",
   "pygments_lexer": "ipython2",
   "version": "2.7.6"
  }
 },
 "nbformat": 4,
 "nbformat_minor": 5
}
