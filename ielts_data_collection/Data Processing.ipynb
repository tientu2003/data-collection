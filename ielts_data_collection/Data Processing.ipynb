{
 "cells": [
  {
   "metadata": {},
   "cell_type": "markdown",
   "source": "### 1. Prepare Account to scrape Data from Study4\n",
   "id": "7804ccff58d6c4be"
  },
  {
   "cell_type": "code",
   "id": "initial_id",
   "metadata": {
    "collapsed": true,
    "ExecuteTime": {
     "end_time": "2024-10-12T02:23:31.722588Z",
     "start_time": "2024-10-12T02:23:31.447857Z"
    }
   },
   "source": [
    "from selenium import webdriver\n",
    "from selenium.webdriver.common.by import By\n",
    "from selenium.webdriver.chrome.service import Service\n",
    "from webdriver_manager.chrome import ChromeDriverManager\n",
    "import time\n",
    "import json\n",
    "from dotenv import load_dotenv\n",
    "import os\n",
    "load_dotenv()"
   ],
   "outputs": [
    {
     "data": {
      "text/plain": [
       "True"
      ]
     },
     "execution_count": 1,
     "metadata": {},
     "output_type": "execute_result"
    }
   ],
   "execution_count": 1
  },
  {
   "metadata": {},
   "cell_type": "code",
   "outputs": [],
   "execution_count": null,
   "source": [
    "\n",
    "## Set up for running selenium in Google Colab\n",
    "## You don't need to run this code if you do it in Jupyter notebook, or other local Python setting\n",
    "# %%shell\n",
    "# sudo apt -y update\n",
    "# sudo apt install -y wget curl unzip\n",
    "# wget http://archive.ubuntu.com/ubuntu/pool/main/libu/libu2f-host/libu2f-udev_1.1.4-1_all.deb\n",
    "# dpkg -i libu2f-udev_1.1.4-1_all.deb\n",
    "# wget https://dl.google.com/linux/direct/google-chrome-stable_current_amd64.deb\n",
    "# dpkg -i google-chrome-stable_current_amd64.deb\n",
    "# CHROME_DRIVER_VERSION=`curl -sS chromedriver.storage.googleapis.com/LATEST_RELEASE`\n",
    "# wget -N https://chromedriver.storage.googleapis.com/$CHROME_DRIVER_VERSION/chromedriver_linux64.zip -P /tmp/\n",
    "# unzip -o /tmp/chromedriver_linux64.zip -d /tmp/\n",
    "# chmod +x /tmp/chromedriver\n",
    "# mv /tmp/chromedriver /usr/local/bin/chromedriver\n",
    "# pip install selenium"
   ],
   "id": "5b1efd35ece64c0d"
  },
  {
   "metadata": {},
   "cell_type": "markdown",
   "source": "#### 1.1 Login And Do All Tests",
   "id": "c6766b04f2d13895"
  },
  {
   "metadata": {
    "ExecuteTime": {
     "end_time": "2024-10-12T02:23:41.794725Z",
     "start_time": "2024-10-12T02:23:31.732586Z"
    }
   },
   "cell_type": "code",
   "source": [
    "!pip install chromedriver-autoinstaller  \n",
    "import sys\n",
    "sys.path.insert(0,'/usr/lib/chromium-browser/chromedriver')\n",
    "from selenium import webdriver\n",
    "from selenium.webdriver.common.by import By\n",
    "from selenium.common.exceptions import NoSuchElementException\n",
    "from selenium.webdriver.chrome.service import Service\n",
    "import time\n",
    "import json\n",
    "import chromedriver_autoinstaller\n",
    "from selenium.webdriver.support.ui import WebDriverWait\n",
    "from selenium.webdriver.support import expected_conditions as EC\n",
    "from selenium.webdriver.common.action_chains import ActionChains\n",
    "\n",
    "# Sử dụng Selenium để đăng nhập\n",
    "chrome_options = webdriver.ChromeOptions()\n",
    "chrome_options.add_argument('--headless') # ensure GUI is off \n",
    "chrome_options.add_argument('--no-sandbox')\n",
    "chrome_options.add_argument('--disable-dev-shm-usage')\n",
    "chrome_options.add_argument(\"window-size=1920,1080\")  # Example resolution\n",
    "\n",
    "chromedriver_autoinstaller.install()\n",
    "driver = webdriver.Chrome(options=chrome_options)\n",
    "driver.get(\"https://study4.com/login/\")\n",
    "\n",
    "#Đăng nhập bằng facebook account\n",
    "driver.find_element(By.CLASS_NAME,\"f-login-button\").click()\n",
    "\n",
    "email_input = driver.find_element(By.ID,\"email\")\n",
    "email_input.send_keys(\"nmjuyh26@gmail.com\")\n",
    "\n",
    "password_input = driver.find_element(By.ID,\"pass\")\n",
    "password_input.send_keys(\"tientumega\")\n",
    "\n",
    "driver.find_element(By.ID,\"loginbutton\").click()\n",
    "time.sleep(3)\n",
    "\n",
    "driver.find_element(By.XPATH,\"//div[@role='button']\").click()\n",
    "time.sleep(5)\n",
    "\n",
    "# Sử dụng WebDriverWait để chờ phần tử có thể nhấp được\n",
    "wait = WebDriverWait(driver, 10)\n",
    "\n",
    "with open('tests.json') as file:\n",
    "    data = json.load(file)\n",
    "\n",
    "for row in data:\n",
    "    url = row['test_url']\n",
    "    driver.get(url)\n",
    "    if \"speaking\" in url:\n",
    "        continue\n",
    "    try:\n",
    "        driver.find_element(By.CLASS_NAME,\"test-user-results\").is_displayed()\n",
    "        print(f\"Skips {url}\")\n",
    "        continue\n",
    "    except NoSuchElementException:\n",
    "        try:\n",
    "            driver.find_element(By.XPATH,'//a[@href=\"#nav-taketest\"]').click()\n",
    "            take_test_element = wait.until(EC.element_to_be_clickable((By.ID, 'nav-taketest')))\n",
    "            ActionChains(driver).move_to_element(take_test_element).perform()\n",
    "            take_test_link = take_test_element.find_element(By.XPATH, '//a[@class=\"btn btn-primary\"]')\n",
    "            take_test_link.click()\n",
    "            time.sleep(5)\n",
    "            if \"writing\" in url:\n",
    "                try:\n",
    "                    tex_answer_input = wait.until(EC.element_to_be_clickable\n",
    "                                                  ((By.XPATH,'//textarea[@class=\"form-control jqwordcount\"')))\n",
    "                    ActionChains(driver).move_to_element(tex_answer_input).perform()\n",
    "                    tex_answer_input.send_keys(\"Fake Answers\")\n",
    "                    tex_submit = wait.until(EC.element_to_be_clickable((By.ID,'submit-test')))\n",
    "                    ActionChains(driver).move_to_element(tex_submit).perform()\n",
    "                    tex_submit.click()\n",
    "                    print(f\"Did Urls: {url}\")\n",
    "                    time.sleep(30)\n",
    "                except:\n",
    "                    print(f\"Error:{url}\")\n",
    "                    continue\n",
    "            else:\n",
    "                try:\n",
    "                    answer_input = wait.until(EC.element_to_be_clickable((By.XPATH,'//input[@class=\"form-control \"]')))\n",
    "                    ActionChains(driver).move_to_element(answer_input).perform()\n",
    "                    answer_input.send_keys(\"Fake Answer\")\n",
    "                    submit = wait.until(EC.element_to_be_clickable((By.ID,'submit-test')))\n",
    "                    ActionChains(driver).move_to_element(submit).perform()\n",
    "                    submit.click()\n",
    "                    print(f\"Did Urls: {url}\")\n",
    "                    time.sleep(30)\n",
    "                except:\n",
    "                    print(f\"Error:{url}\")\n",
    "                    continue\n",
    "        except:\n",
    "            print(f\"Error:{url}\")\n",
    "            continue\n",
    "driver.quit()"
   ],
   "id": "e7a342cc606d2d",
   "outputs": [],
   "execution_count": 2
  }
 ],
 "metadata": {
  "kernelspec": {
   "display_name": "Python 3",
   "language": "python",
   "name": "python3"
  },
  "language_info": {
   "codemirror_mode": {
    "name": "ipython",
    "version": 2
   },
   "file_extension": ".py",
   "mimetype": "text/x-python",
   "name": "python",
   "nbconvert_exporter": "python",
   "pygments_lexer": "ipython2",
   "version": "2.7.6"
  }
 },
 "nbformat": 4,
 "nbformat_minor": 5
}
